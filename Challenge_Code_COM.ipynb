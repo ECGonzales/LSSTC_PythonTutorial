{
 "cells": [
  {
   "cell_type": "markdown",
   "metadata": {},
   "source": [
    "# The original, very inefficient code for computing the center of mass (COM) of a system of particles"
   ]
  },
  {
   "cell_type": "code",
   "execution_count": 2,
   "metadata": {
    "collapsed": true
   },
   "outputs": [],
   "source": [
    "# Challenge Code: Version 1 (Original)\n",
    "import random\n",
    "\n",
    "# Set up initial system or particles\n",
    "x, y, z, m = [], [], [], []\n",
    "for i in xrange(1000000): \n",
    "    x.append(random.uniform(0,100))\n",
    "    y.append(random.uniform(0,100))\n",
    "    z.append(random.uniform(0,100))\n",
    "    m.append(random.uniform(1,10))\n",
    "\n",
    "#Calculate the COM of the system (writing as a function makes it easier to time it!)\n",
    "def f1_calc_com(x, y, z, m): \n",
    "    xmsum = 0\n",
    "    for j in range(len(x)):\n",
    "        xmsum = xmsum + x[j]*m[j]    \n",
    "    xcm = xmsum/sum(m) \n",
    "\n",
    "    ymsum = 0\n",
    "    for j in range(len(y)):\n",
    "        ymsum = ymsum + y[j]*m[j]    \n",
    "    ycm = ymsum/sum(m) \n",
    "    \n",
    "    zmsum = 0\n",
    "    for j in range(len(z)):\n",
    "        zmsum = zmsum + z[j]*m[j]    \n",
    "    zcm = zmsum/sum(m) \n",
    "    \n",
    "    return xcm, ycm, zcm"
   ]
  },
  {
   "cell_type": "code",
   "execution_count": 3,
   "metadata": {
    "collapsed": false
   },
   "outputs": [
    {
     "name": "stdout",
     "output_type": "stream",
     "text": [
      "1 loop, best of 3: 840 ms per loop\n"
     ]
    }
   ],
   "source": [
    "%timeit f1_calc_com(x, y, z, m)"
   ]
  },
  {
   "cell_type": "markdown",
   "metadata": {},
   "source": [
    "# Now, write your optimized codes below."
   ]
  },
  {
   "cell_type": "code",
   "execution_count": 11,
   "metadata": {
    "collapsed": true
   },
   "outputs": [],
   "source": [
    "# Challenge Code: Version 2 (Partially optimized using only Python lists)\n",
    "import random\n",
    "\n",
    "# Set up initial system or particles\n",
    "x, y, z, m = [], [], [], []\n",
    "for i in xrange(1000000): \n",
    "    x.append(random.uniform(0,100))\n",
    "    y.append(random.uniform(0,100))\n",
    "    z.append(random.uniform(0,100))\n",
    "    m.append(random.uniform(1,10))\n",
    "\n",
    "#Calculate the COM of the system (writing as a function makes it easier to time it!)\n",
    "def f1_calc_com2(x, y, z, m): \n",
    "    xmsum = 0\n",
    "    ymsum = 0\n",
    "    zmsum = 0\n",
    "    for j in range(len(x)):\n",
    "        xmsum = xmsum + x[j]*m[j]\n",
    "        ymsum = ymsum + y[j]*m[j] \n",
    "        zmsum = zmsum + z[j]*m[j] \n",
    "    xcm = xmsum/sum(m)\n",
    "    ycm = ymsum/sum(m) \n",
    "    zcm = zmsum/sum(m) \n",
    "    \n",
    "    return xcm, ycm, zcm"
   ]
  },
  {
   "cell_type": "code",
   "execution_count": 12,
   "metadata": {
    "collapsed": false
   },
   "outputs": [
    {
     "name": "stdout",
     "output_type": "stream",
     "text": [
      "1 loop, best of 3: 304 ms per loop\n"
     ]
    }
   ],
   "source": [
    "%timeit f1_calc_com2(x,y,z,m)"
   ]
  },
  {
   "cell_type": "code",
   "execution_count": 7,
   "metadata": {
    "collapsed": true
   },
   "outputs": [],
   "source": [
    "# Challenge Code: Version 2 (Partially optimized using only Python lists)\n",
    "import random\n",
    "\n",
    "# Set up initial system or particles\n",
    "x, y, z, m = [], [], [], []\n",
    "x = [random.uniform(0,100) for i in xrange(1000000)]\n",
    "y = [random.uniform(0,100) for i in xrange(1000000)]\n",
    "z = [random.uniform(0,100) for i in xrange(1000000)]\n",
    "m = [random.uniform(0,10) for i in xrange(1000000)]\n",
    "\n",
    "#Calculate the COM of the system (writing as a function makes it easier to time it!)\n",
    "def f1_calc_com2_Q1(x, y, z, m): \n",
    "    xmsum, ymsum, zmsum = 0, 0, 0\n",
    "    msum_inv=1./sum(m)  # to use to speed up multi from div\n",
    "    \n",
    "    for j in range(len(x)):\n",
    "        xmsum = xmsum + x[j]*m[j]\n",
    "        ymsum = ymsum + y[j]*m[j] \n",
    "        zmsum = zmsum + z[j]*m[j] \n",
    "    xcm = xmsum*msum_inv\n",
    "    ycm = ymsum*msum_inv\n",
    "    zcm = zmsum*msum_inv\n",
    "    \n",
    "    return xcm, ycm, zcm"
   ]
  },
  {
   "cell_type": "code",
   "execution_count": 9,
   "metadata": {
    "collapsed": false
   },
   "outputs": [
    {
     "name": "stdout",
     "output_type": "stream",
     "text": [
      "1 loop, best of 3: 298 ms per loop\n"
     ]
    }
   ],
   "source": [
    "%timeit f1_calc_com2_Q1(x,y,z,m)"
   ]
  },
  {
   "cell_type": "code",
   "execution_count": 11,
   "metadata": {
    "collapsed": false
   },
   "outputs": [],
   "source": [
    "# Challenge Code: Version 3 (Optimized using numpy arrays)\n",
    "import random\n",
    "import numpy as np\n",
    "\n",
    "# Set up initial system or particles\n",
    "x, y, z, m = [], [], [], []\n",
    "for i in xrange(1000000): \n",
    "    x.append(random.uniform(0,100))\n",
    "    y.append(random.uniform(0,100))\n",
    "    z.append(random.uniform(0,100))\n",
    "    m.append(random.uniform(1,10))\n",
    "\n",
    "xnp = np.asarray(x)\n",
    "ynp = np.asarray(y)\n",
    "znp = np.asarray(z)\n",
    "mnp = np.asarray(m)\n",
    "#Calculate the COM of the system (writing as a function makes it easier to time it!)\n",
    "def f1_calc_com3(x, y, z, m): \n",
    "    xcm=(xnp*mnp)/sum(m)\n",
    "    ycm=(ynp*mnp)/sum(m)\n",
    "    zcm=(znp*mnp)/sum(m)\n",
    "    \n",
    "    return xcm, ycm, zcm"
   ]
  },
  {
   "cell_type": "code",
   "execution_count": 12,
   "metadata": {
    "collapsed": false
   },
   "outputs": [
    {
     "name": "stdout",
     "output_type": "stream",
     "text": [
      "10 loops, best of 3: 76 ms per loop\n"
     ]
    }
   ],
   "source": [
    "%timeit f1_calc_com3(x,y,z,m)"
   ]
  },
  {
   "cell_type": "code",
   "execution_count": 36,
   "metadata": {
    "collapsed": true
   },
   "outputs": [],
   "source": [
    "#Q3\n",
    "import numpy as np\n",
    "x = np.random.uniform(50,100,1000000)\n",
    "y = np.random.uniform(30,90,1000000)\n",
    "z = np.random.uniform(-50,50,1000000)\n",
    "m = np.random.uniform(1,10,1000000) \n",
    "\n",
    "r= np.vstack((x,y,z))\n",
    "r_use= np.swapaxes(r,0,1)\n",
    "r_t=np.transpose(r)  # gives same setup as r_use but r_t is the correct answer\n",
    "\n",
    "rcm = (r_use * m[:,np.newaxis]).sum(axis=0)/m.sum()"
   ]
  },
  {
   "cell_type": "code",
   "execution_count": 29,
   "metadata": {
    "collapsed": false
   },
   "outputs": [
    {
     "data": {
      "text/plain": [
       "array([[ 60.48117811,  73.05615615,  97.63451598, ...,  92.14312487,\n",
       "         77.95818507,  90.03634164],\n",
       "       [ 40.92746865,  48.500198  ,  70.54405496, ...,  59.37170707,\n",
       "         66.10437994,  43.38975042],\n",
       "       [ 14.63799873,   3.62725269,   5.5535038 , ...,  25.75883871,\n",
       "          8.35482526,  49.90237672]])"
      ]
     },
     "execution_count": 29,
     "metadata": {},
     "output_type": "execute_result"
    }
   ],
   "source": [
    "r"
   ]
  },
  {
   "cell_type": "code",
   "execution_count": 30,
   "metadata": {
    "collapsed": false
   },
   "outputs": [
    {
     "data": {
      "text/plain": [
       "array([[ 60.48117811,  40.92746865,  14.63799873],\n",
       "       [ 73.05615615,  48.500198  ,   3.62725269],\n",
       "       [ 97.63451598,  70.54405496,   5.5535038 ],\n",
       "       ..., \n",
       "       [ 92.14312487,  59.37170707,  25.75883871],\n",
       "       [ 77.95818507,  66.10437994,   8.35482526],\n",
       "       [ 90.03634164,  43.38975042,  49.90237672]])"
      ]
     },
     "execution_count": 30,
     "metadata": {},
     "output_type": "execute_result"
    }
   ],
   "source": [
    "r_use"
   ]
  },
  {
   "cell_type": "code",
   "execution_count": 31,
   "metadata": {
    "collapsed": false
   },
   "outputs": [
    {
     "data": {
      "text/plain": [
       "array([[ 60.48117811,  40.92746865,  14.63799873],\n",
       "       [ 73.05615615,  48.500198  ,   3.62725269],\n",
       "       [ 97.63451598,  70.54405496,   5.5535038 ],\n",
       "       ..., \n",
       "       [ 92.14312487,  59.37170707,  25.75883871],\n",
       "       [ 77.95818507,  66.10437994,   8.35482526],\n",
       "       [ 90.03634164,  43.38975042,  49.90237672]])"
      ]
     },
     "execution_count": 31,
     "metadata": {},
     "output_type": "execute_result"
    }
   ],
   "source": [
    "r_t"
   ]
  },
  {
   "cell_type": "code",
   "execution_count": 38,
   "metadata": {
    "collapsed": false
   },
   "outputs": [],
   "source": [
    "rcm = (r_use * m[:,np.newaxis]).sum(axis=0)/m.sum()"
   ]
  },
  {
   "cell_type": "code",
   "execution_count": 41,
   "metadata": {
    "collapsed": false
   },
   "outputs": [
    {
     "data": {
      "text/plain": [
       "array([ 1.07781012,  2.22016889,  4.78197437, ...,  8.64769325,\n",
       "        6.01348381,  3.07943764])"
      ]
     },
     "execution_count": 41,
     "metadata": {},
     "output_type": "execute_result"
    }
   ],
   "source": [
    "m"
   ]
  },
  {
   "cell_type": "code",
   "execution_count": 40,
   "metadata": {
    "collapsed": false
   },
   "outputs": [
    {
     "data": {
      "text/plain": [
       "array([[ 1.07781012],\n",
       "       [ 2.22016889],\n",
       "       [ 4.78197437],\n",
       "       ..., \n",
       "       [ 8.64769325],\n",
       "       [ 6.01348381],\n",
       "       [ 3.07943764]])"
      ]
     },
     "execution_count": 40,
     "metadata": {},
     "output_type": "execute_result"
    }
   ],
   "source": [
    "m[:,np.newaxis]  # flips it the other way"
   ]
  },
  {
   "cell_type": "code",
   "execution_count": 42,
   "metadata": {
    "collapsed": false
   },
   "outputs": [
    {
     "data": {
      "text/plain": [
       "array([[  84.28902819,   59.87827667,    5.38901776],\n",
       "       [ 205.43857809,  171.18839234,   -8.83558077],\n",
       "       [ 280.74442436,  316.30154543, -176.49034786],\n",
       "       ..., \n",
       "       [ 644.07642966,  456.82357439, -296.14546911],\n",
       "       [ 322.16476614,  355.14835843,  -21.57497039],\n",
       "       [ 159.39056668,  101.72021925,  100.989227  ]])"
      ]
     },
     "execution_count": 42,
     "metadata": {},
     "output_type": "execute_result"
    }
   ],
   "source": [
    "r_use * m[:,np.newaxis]"
   ]
  },
  {
   "cell_type": "code",
   "execution_count": 43,
   "metadata": {
    "collapsed": false
   },
   "outputs": [
    {
     "data": {
      "text/plain": [
       "array([  4.12373738e+08,   3.29873773e+08,  -9.86894822e+04])"
      ]
     },
     "execution_count": 43,
     "metadata": {},
     "output_type": "execute_result"
    }
   ],
   "source": [
    "(r_use * m[:,np.newaxis]).sum(axis=0)  # axis = 0 is columns"
   ]
  },
  {
   "cell_type": "code",
   "execution_count": null,
   "metadata": {
    "collapsed": true
   },
   "outputs": [],
   "source": []
  }
 ],
 "metadata": {
  "kernelspec": {
   "display_name": "Python 2",
   "language": "python",
   "name": "python2"
  },
  "language_info": {
   "codemirror_mode": {
    "name": "ipython",
    "version": 2
   },
   "file_extension": ".py",
   "mimetype": "text/x-python",
   "name": "python",
   "nbconvert_exporter": "python",
   "pygments_lexer": "ipython2",
   "version": "2.7.13"
  }
 },
 "nbformat": 4,
 "nbformat_minor": 2
}
