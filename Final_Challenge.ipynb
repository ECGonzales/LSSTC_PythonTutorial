{
 "cells": [
  {
   "cell_type": "markdown",
   "metadata": {},
   "source": [
    "# Analyzing Earthquake Data With Pandas"
   ]
  },
  {
   "cell_type": "markdown",
   "metadata": {},
   "source": [
    "## Introduction"
   ]
  },
  {
   "cell_type": "markdown",
   "metadata": {},
   "source": [
    "In this challenge, you'll be analyzing a dataset from an earthquake that originated off the coast of Illapel, Chile, in September of 2015. Specifically, you'll be focusing on one type of seismic waves—P waves, which stands for <em>primary</em> waves—which are the first waves to arrive at a seismograph after an earthquake. You'll plot travel time curves that show the times when P-wave signals arrived at seismographs at various distances from the origin of the earthquake. A comparison of actual observed P-wave arrival times to theoretical arrival times computed from a couple of different models can help us infer some things about the composition of the Earth.\n",
    "\n",
    "Throughout the rest of this challenge, we'll lead you through the steps that you should perform to analyze the Illapel earthquake dataset. Look for the instructions in <font color=blue><strong>blue</font> which indicate when there is a specific task you need to complete.\n"
   ]
  },
  {
   "cell_type": "markdown",
   "metadata": {},
   "source": [
    "## The Data"
   ]
  },
  {
   "cell_type": "markdown",
   "metadata": {},
   "source": [
    "The USGS hosts important information about this and other earthquakes on its web site. All information for this Chilean earthquake can be found [here](http://earthquake.usgs.gov/earthquakes/eventpage/us20003k7a#general_summary).\n",
    "The specific type of data you'll be using here is the </em>arrival times</em> of seismic waves from the earthquake at seismic stations worldwide. \n",
    "\n",
    "<br>\n",
    "\n",
    "<font color=blue><strong>Your Turn: Download the data</font>\n",
    "\n",
    "Visit [this page](http://earthquake.usgs.gov/earthquakes/eventpage/us20003k7a#origin) and click on the \"Phases\" tab, then click the \"Download\" button. A window will pop up allowing you to manually \"Copy\" the data, which you'll then need to paste into a new data file (you can use a spreadsheet application, such as Excel, or just paste it into a simple text file with vi or your text editor of choice). With your data saved to a file, you're ready to begin working."
   ]
  },
  {
   "cell_type": "markdown",
   "metadata": {},
   "source": [
    "## Loading The DataFrame\n",
    "Let's begin by reading in the data from the file to a new DataFrame. We'll simply load the entire dataset, and then we can look at its contents. How you load in the DataFrame will depend on how you saved the original data. Is it in an Excel spreadsheet? a simple data file?\n",
    "\n",
    "<br>\n",
    "<font color=blue><strong>Your Turn: Complete the following in the cell below</font>\n",
    "\n",
    "Depending on which file format you chose, use one of pandas' built-in <em>read</em> methods to load the data into a new DataFrame. \n",
    "You should have a number of columns, including <em>Channel</em>, <em>Distance</em>, <em>Azimuth</em>, etc.\n"
   ]
  },
  {
   "cell_type": "code",
   "execution_count": null,
   "metadata": {
    "collapsed": false
   },
   "outputs": [],
   "source": [
    "# FILL IN CODE HERE\n",
    "\n",
    "\n"
   ]
  },
  {
   "cell_type": "markdown",
   "metadata": {},
   "source": [
    "Looking at the output, we see that our DataFrame has almost 400 rows (observations) and 8 columns of data corresponding to the observations. We'll be working with five of these columns, each described below:\n",
    "\n",
    "- <strong>Distance:</strong> Angular distance (following a path on the Earth's surface) between the epicenter and different seismic stations in degrees\n",
    "\n",
    "- <strong>Phase:</strong> Denotes the type of wave (i.e., different types of P-waves, S-waves, etc.)\n",
    "\n",
    "- <strong>Residual:</strong> The differences between observed travel times and theoretical travel times computed from a detailed Earth model\n",
    "\n",
    "- <strong>Arrival Time:</strong> The exact time (in date-time format) when the signal was detected at the seismograph\n",
    "\n",
    "- <strong>Azimuth:</strong> The angle between the epicenter of the Earthquake and the seismic station where the observation was made, in units of degrees\n",
    "\n",
    "Let's take a few moments to try to absorb the meaning of this data. In the diagram shown on the opening page of the Canvas course, the <em>epicenter</em> is the point on the upper left surface of the globe where the earthquake is shown to originate, and the seismic station is shown roughly 90 degrees eastward (clockwise around the globe) from the epicenter. This angle is the <em>azimuth</em>: small azimuth angles signify observations made at a seismic station near and to the east of the earthquake; an angle of 180 degrees means one that passes directly through to be observed on the opposite side of the Earth; and azimuth angles between 180 and 360 signify observations made westward of the earthquake. You'll notice that seismic waves observed at different angles follow very different paths through earth, from hardly penetrating Earth's mantle to going through all the different Earth layers. \n",
    "\n",
    "Different kinds of seismic waves travel at different speeds through Earth, and the speed of any given type of wave is also influenced by the Earth's structure. Thus, by studying the arrival times of different types of waves at different locations, we can learn about the structure of the Earth."
   ]
  },
  {
   "cell_type": "markdown",
   "metadata": {},
   "source": [
    "## Parsing The Data\n",
    "So, with a basic understanding of the meaning of this data, let's dive in. This dataset, like most datasets, will require a bit of parsing to get it into a format that will work for our purposes.\n",
    "\n",
    "### Extracting the Time and Getting the Right Units\n",
    "The date and time are currently represented together in the <em>Arrival Time</em> column. If we want to plot the travel time curves in seconds since the start of the earthquake, we'll have to parse the date-time format to separate the date and time, and then compute the time in seconds relative to the origin time of the Earthquake, which is 22:54:32.86 (hours:minutes:seconds).\n",
    "\n",
    "While you could do these things manually, you don't have to, because pandas has convenient built-in methods to do just this (as you'll see below).\n",
    "\n",
    "<font color=blue><strong>Your Turn: Complete the following in the cell below (relates to Question 1 of the quiz)</strong></font>\n",
    "1. Review the official documentation to learn how to use the [parse_dates](https://pandas.pydata.org/pandas-docs/stable/generated/pandas.read_csv.html) parameter to re-read in the original data file and parse the <em>Arrival Time</em> column. Confirm that the date and time are split, and that Python recognizes it as a the \"datetime\" data type (enter <code>df['Arrival Time']</code>, and scroll down to the bottom of the output to see the data type).\n",
    "\n",
    "2. Make sure that your DataFrame is sorted by the Arrival Time (refer [here](https://pandas.pydata.org/pandas-docs/version/0.18.1/generated/pandas.DataFrame.sort_values.html#pandas.DataFrame.sort_values) if you need help with the sorting). You'll notice that all the observations occurred on the same date (2015-09-16), so we can ignore the date when we compute the relative arrival times. \n",
    "\n",
    "    3. Create a new column, <code>'Relative Arrival Time'</code>, that contains the arrival times <em>relative to the origin time of the Earthquake</em>: 22:54:32.86. <strong>We have started this for you in the cell below</strong> using the nifty <code>Timestamp</code> method, which you can learn about [here](https://pandas.pydata.org/pandas-docs/stable/timeseries.html). (Note: Since all observations occurred on the same date, we can ignore the date when we compute the relative arrival times.)\n",
    "    \n",
    "    4. Next, convert the new relative time column to seconds using another nifty method, <code>total_seconds</code>, which when used as follows, will return the column 'X' in units of seconds (go [here](https://pandas.pydata.org/pandas-docs/stable/generated/pandas.Series.dt.total_seconds.html) for a reference):\n",
    "    <code>df['X'].dt.total_seconds()</code>"
   ]
  },
  {
   "cell_type": "code",
   "execution_count": null,
   "metadata": {
    "collapsed": false
   },
   "outputs": [],
   "source": [
    "# FILL IN CODE HERE\n",
    "# Re-read in data file, parsing the dates\n",
    "\n",
    "# FILL IN CODE BELOW\n",
    "df.loc[:, FILL IN CODE ] = df[ FILL IN CODE ] - pd.Timestamp('2015-09-16 22:54:32.86')\n",
    "\n",
    "df.loc[:, FILL IN CODE ] = df[ FILL IN CODE ].dt.total_seconds()\n"
   ]
  },
  {
   "cell_type": "markdown",
   "metadata": {},
   "source": [
    "### Selecting P-Waves\n",
    "For this exercise, we are focusing only on P waves, so our next step is to isolate all observations with <em>P</em> or <em>Pn</em> in the 'Phase' column.\n",
    "\n",
    "<br>\n",
    "\n",
    "<font color=blue><strong>Your Turn: Complete the following in the cell below (relates to Question 2 of the quiz):</strong></font>\n",
    "\n",
    "1. Select all rows of data with observations of P waves so that this slice of the DataFrame can be used in the calculations that follow. How many P wave observations are there in the sample?</font>\n"
   ]
  },
  {
   "cell_type": "code",
   "execution_count": null,
   "metadata": {
    "collapsed": false
   },
   "outputs": [],
   "source": [
    "# FILL IN CODE BELOW\n",
    "\n"
   ]
  },
  {
   "cell_type": "markdown",
   "metadata": {},
   "source": [
    "## Analyze The Data\n",
    "Now that we have the isolated the data we want to work with and got it into a format that we can work with, let's start analyzing this dataset. We want to visualize the data, and compare it to a simple theoretical model for the propogation of P waves.\n",
    "\n",
    "Let's consider the Earth as a homogeneous sphere with an average P-wave velocity <em>v</em> of 11 km/s.  The following formulas represents the theoretical travel time along the <em>shortest path</em> (i.e., straight line) between quake and seismograph station, called a chord:\n",
    "$$ t\\:=\\frac{2R\\sin\\left(\\frac{\\theta}{2}\\right)}{v} $$\n",
    "where R is the radius of the Earth (6371 km) and $\\theta$ is the angular distance (that's our 'Distance' column) between the epicenter and the seismic station.\n",
    "\n",
    "<br>\n",
    "\n",
    "<font color=blue><strong>Your Turn: Complete the following in the cell below</strong></font>\n",
    "\n",
    "1. Write code to calculate the theoretical travel times as a function of Distance using the chord approximation equation above. Add the 'Chord Times' to your DataFrame as a new column, computing the theoretical times for each 'Distance' from the original dataset. Tips: Be sure that you understand the units of all the inputs! Does the <em>sin</em> function expect the angle to be in degrees or radians? <em>Hint: You should find that for the first observation (Distance=0.683970 degrees), the chord travel time is 6.913958 seconds.</em></font>\n",
    "\n",
    "2. <font color=blue>(Relates to Question 3 AND 4 of the quiz)</font> Now plot the observed and theoretical values of <em>P wave travel time [seconds]</em> as a function of <em>Distance [degrees]</em>, labeling each axis appropriately and using different colors for the two different curves. What does the plot indicate about how well the chord (shortest path) approximation matches to the observations (qualitatively)?\n",
    "\n"
   ]
  },
  {
   "cell_type": "code",
   "execution_count": null,
   "metadata": {
    "collapsed": false
   },
   "outputs": [],
   "source": [
    "# FILL IN CODE BELOW\n",
    "# If you need to use numpy, don't forget to import it!\n",
    "\n",
    "\n",
    "# Set constants R and v\n",
    "R = 6371.  # Earth's radius in km\n",
    "v = 11.   # Assumed constant P-wave velocity in km/s\n",
    "A = 2.*R/v  # Just a constant\n",
    "\n",
    "# Compute the chord times and add to the DataFrame (hint: use df.loc)\n",
    "\n"
   ]
  },
  {
   "cell_type": "code",
   "execution_count": null,
   "metadata": {
    "collapsed": false
   },
   "outputs": [],
   "source": [
    "# Plot P-wave arrival time versus Distance, for both \n",
    "# the observations (just points) and for the model (connecting lines)\n",
    "\n",
    "\n"
   ]
  },
  {
   "cell_type": "markdown",
   "metadata": {},
   "source": [
    "By studying the plot you created above, we can infer that the speed with which P waves travel <em>increases</em> with depth within the Earth’s mantle (think about how Distance in degrees relates to depth within the Earth's mantle)."
   ]
  },
  {
   "cell_type": "markdown",
   "metadata": {},
   "source": [
    "### Finding a Better Fit to the Data\n",
    "\n",
    "In the last part of the challenge, you plotted the chord travel times and compared that approximation to the observed travel times; it turns out, the straight line path does not match the actual shape of the data very well.\n",
    "\n",
    "Let's first try playing with the chord travel times to see if we can find a better fit to at least some part of the dataset, and then we'll actually find a best fit curve for the data.\n",
    "\n",
    "\n",
    "<br>\n",
    "\n",
    "<font color=blue><strong>Your Turn: Complete the following in the cell below (relates to Questions 5 AND 6 in the quiz)</strong></font>\n",
    "\n",
    "1. Next, let's try finding a best fit curve for the data. Read up on how to use NumPy's [numpy.polyfit](https://docs.scipy.org/doc/numpy/reference/generated/numpy.polyfit.html) function. This page will show you how to compute the best fit line using <code>numpy.polyfit</code>, and then how to use <code>numpy.poly1d</code> to automatically generate a function using those best fit parameters so you can easily visualize those results.\n",
    "    2. <font color=blue>(See Question 5 in the quiz)</font> Try plotting the best fit curves for deg=0 through deg=4 (5 different fits). How does the fit improve as you increase the degree of the fit?\n",
    "    3. <font color=blue>(See Question 6 in the quiz)</font> For deg=3, what is the best fit coefficient for the x**3 term?"
   ]
  },
  {
   "cell_type": "code",
   "execution_count": null,
   "metadata": {
    "collapsed": false
   },
   "outputs": [],
   "source": [
    "# FILL IN CODE BELOW\n",
    "\n",
    "# Find the best fit curve\n",
    "fit = np.polyfit( FILL IN CODE )\n",
    "p = np.poly1d( FILL IN CODE )\n",
    "\n",
    "# Plot the data\n",
    "\n"
   ]
  },
  {
   "cell_type": "markdown",
   "metadata": {},
   "source": [
    " ### Studying the Residuals"
   ]
  },
  {
   "cell_type": "markdown",
   "metadata": {
    "collapsed": false
   },
   "source": [
    "You'll notice that in the original USGS dataset there's a column called 'Residual'. The residual is the differences between the observed travel times and the theoretical travel times predicted a realistic. These differences are called <em>residual times</em> or <em>delay times</em>, and they are a measure of how well the data fit the model. \n",
    "\n",
    "$$\\text{residual} = \\text{(observed travel time) - (theoretical travel time)}$$\n",
    "\n",
    "Let's see what we can learn by studying the USGS residuals as a function of 'Azimuth,' which is the angle between the earthquake and the seismic station where the observation was made, in units of degrees. We'll split the observations into <em>east</em> (azimuth of 0-180) and <em>west</em> (azimuth of 180-360) of the epicenter. Any differences in the distributions of the residuals could reveal something about the structure inside the Earth.\n",
    "\n",
    "<br>\n",
    "\n",
    "<font color=blue><strong>Your Turn: Complete the following in the cell below</strong></font>\n",
    "\n",
    "1. Slice your DataFrame into east and west observations based on the azimuth angle. As a check, how many of the observations were traveling eastward versus westward? <font color=blue>(Relates to Question 7 in the quiz)</font>\n",
    "2. <font color=blue>(Relates Question 8 in the quiz)</font> Make a 2-panel plot that contains the P wave travel time versus the distance (like before), except now plotting the east and west data in two different colors. On the second panel, plot the USGS residuals (P wave delay times) as separate histograms in different colors. We recommend using the attribute alpha=0.5, which makes them semi-transparent so you can see both histograms and their overlap. What does the plot show you about how the speeds of the waves in the two directions compare?\n"
   ]
  },
  {
   "cell_type": "code",
   "execution_count": null,
   "metadata": {
    "collapsed": false
   },
   "outputs": [],
   "source": [
    "east = FILL IN CODE\n",
    "west = FILL IN CODE\n",
    "\n",
    "print east.shape\n",
    "print west.shape\n",
    "\n",
    "# Plot the results (some parts are filled in for you below)\n",
    "fig, (ax1, ax2) = plt.subplots(1, 2, figsize=(10,4))\n",
    "ax1.FILL IN CODE\n",
    ".\n",
    ".\n",
    ".\n",
    "ax2.FILL IN CODE\n",
    ".\n",
    ".\n",
    ".\n",
    "ax2.set_xlabel('P wave delay times (seconds)')\n",
    "ax2.set_ylabel('count')\n",
    "plt.show()"
   ]
  },
  {
   "cell_type": "code",
   "execution_count": null,
   "metadata": {
    "collapsed": true
   },
   "outputs": [],
   "source": []
  }
 ],
 "metadata": {
  "kernelspec": {
   "display_name": "Python 2",
   "language": "python",
   "name": "python2"
  },
  "language_info": {
   "codemirror_mode": {
    "name": "ipython",
    "version": 2
   },
   "file_extension": ".py",
   "mimetype": "text/x-python",
   "name": "python",
   "nbconvert_exporter": "python",
   "pygments_lexer": "ipython2",
   "version": "2.7.13"
  }
 },
 "nbformat": 4,
 "nbformat_minor": 2
}
