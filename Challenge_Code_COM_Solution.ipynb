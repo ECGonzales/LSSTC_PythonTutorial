{
 "cells": [
  {
   "cell_type": "markdown",
   "metadata": {},
   "source": [
    "# The original, very inefficient code for computing the center of mass (COM) of a system of particles"
   ]
  },
  {
   "cell_type": "code",
   "execution_count": 2,
   "metadata": {
    "collapsed": true
   },
   "outputs": [],
   "source": [
    "# Challenge Code: Version 1 (Original)\n",
    "import random\n",
    "\n",
    "# Set up initial system or particles\n",
    "x, y, z, m = [], [], [], []\n",
    "for i in xrange(1000000): \n",
    "    x.append(random.uniform(0,100))\n",
    "    y.append(random.uniform(0,100))\n",
    "    z.append(random.uniform(0,100))\n",
    "    m.append(random.uniform(1,10))\n",
    "\n",
    "#Calculate the COM of the system (writing as a function makes it easier to time it!)\n",
    "def f1_calc_com(x, y, z, m): \n",
    "    xmsum = 0\n",
    "    for j in range(len(x)):\n",
    "        xmsum = xmsum + x[j]*m[j]    \n",
    "    xcm = xmsum/sum(m) \n",
    "\n",
    "    ymsum = 0\n",
    "    for j in range(len(y)):\n",
    "        ymsum = ymsum + y[j]*m[j]    \n",
    "    ycm = ymsum/sum(m) \n",
    "    \n",
    "    zmsum = 0\n",
    "    for j in range(len(z)):\n",
    "        zmsum = zmsum + z[j]*m[j]    \n",
    "    zcm = zmsum/sum(m) \n",
    "    \n",
    "    return xcm, ycm, zcm"
   ]
  },
  {
   "cell_type": "code",
   "execution_count": 3,
   "metadata": {
    "collapsed": false
   },
   "outputs": [
    {
     "name": "stdout",
     "output_type": "stream",
     "text": [
      "1 loop, best of 3: 840 ms per loop\n"
     ]
    }
   ],
   "source": [
    "%timeit f1_calc_com(x, y, z, m)"
   ]
  },
  {
   "cell_type": "markdown",
   "metadata": {},
   "source": [
    "# Now, write your optimized codes below."
   ]
  },
  {
   "cell_type": "code",
   "execution_count": 1,
   "metadata": {
    "collapsed": true
   },
   "outputs": [],
   "source": [
    "# Challenge Code: Version 2\n",
    "# (Combine for loop, remove repeated calculation, convert division to multiplication)\n",
    "\n",
    "import random\n",
    "\n",
    "#Set up initial system\n",
    "x, y, z, m = [], [], [], []\n",
    "#Alternative way to set up initial conditions for system\n",
    "x = [random.uniform(0,100) for i in xrange(1000000)]\n",
    "y = [random.uniform(0,100) for i in xrange(1000000)]\n",
    "z = [random.uniform(0,100) for i in xrange(1000000)]\n",
    "m = [random.uniform(1,10) for i in xrange(1000000)]\n",
    "\n",
    "def f2_calc_com(x, y, z, m): \n",
    "    xmsum, ymsum, zmsum = 0, 0, 0\n",
    "    msum_inv = 1./sum(m)     #so we can multiply below instead of divide\n",
    "    for j in range(len(x)):\n",
    "        xmsum = xmsum + x[j]*m[j]    \n",
    "        ymsum = ymsum + y[j]*m[j]    \n",
    "        zmsum = zmsum + z[j]*m[j]    \n",
    "    xcm = xmsum*msum_inv \n",
    "    ycm = ymsum*msum_inv\n",
    "    zcm = zmsum*msum_inv \n",
    "    \n",
    "    return xcm, ycm, zcm"
   ]
  },
  {
   "cell_type": "code",
   "execution_count": null,
   "metadata": {
    "collapsed": true
   },
   "outputs": [],
   "source": [
    "# Challenge Code: Version 3 (Optimized using numpy arrays)\n",
    "\n",
    "import numpy as np\n",
    "\n",
    "# Referring to lists defined in previous code/cell\n",
    "x_arr = np.asarray(x)\n",
    "y_arr = np.asarray(y)\n",
    "z_arr = np.asarray(z)\n",
    "m_arr = np.asarray(m)\n",
    "\n",
    "def f3_calc_com(x_arr, y_arr, z_arr, m_arr):\n",
    "    msum = m_arr.sum()\n",
    "    xcm2 = (x_arr*m_arr).sum()/msum\n",
    "    ycm2 = (y_arr*m_arr).sum()/msum\n",
    "    zcm2 = (z_arr*m_arr).sum()/msum\n",
    "\n",
    "    return xcm2, ycm2, zcm2"
   ]
  },
  {
   "cell_type": "code",
   "execution_count": null,
   "metadata": {
    "collapsed": true
   },
   "outputs": [],
   "source": [
    "# Quiz: Code for Questions 3-4\n",
    "\n",
    "import numpy as np\n",
    "\n",
    "xarr = np.random.uniform(50,100,1000000)\n",
    "yarr = np.random.uniform(30,90,1000000)\n",
    "zarr = np.random.uniform(-50,50,1000000)\n",
    "marr = np.random.uniform(1,10,1000000)\n",
    "\n",
    "r = (np.vstack((xarr, yarr, zarr))).T    # Combine particle position vectors into 2D array\n",
    "\n",
    "def f4_calc_com(r, marr):\n",
    "    rcm = ( r * marr[:,np.newaxis] ).sum( axis=0 )/marr.sum()    # All in one line of code!!!\n",
    "    return r_com\n"
   ]
  }
 ],
 "metadata": {
  "kernelspec": {
   "display_name": "Python 2",
   "language": "python",
   "name": "python2"
  },
  "language_info": {
   "codemirror_mode": {
    "name": "ipython",
    "version": 2
   },
   "file_extension": ".py",
   "mimetype": "text/x-python",
   "name": "python",
   "nbconvert_exporter": "python",
   "pygments_lexer": "ipython2",
   "version": "2.7.13"
  }
 },
 "nbformat": 4,
 "nbformat_minor": 2
}
